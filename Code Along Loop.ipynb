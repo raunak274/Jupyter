{
 "cells": [
  {
   "cell_type": "markdown",
   "metadata": {},
   "source": [
    "# IF ELSE STATEMENTS"
   ]
  },
  {
   "cell_type": "code",
   "execution_count": 11,
   "metadata": {},
   "outputs": [],
   "source": [
    "x=10\n",
    "y=5"
   ]
  },
  {
   "cell_type": "code",
   "execution_count": 12,
   "metadata": {},
   "outputs": [
    {
     "name": "stdout",
     "output_type": "stream",
     "text": [
      "x is 10\n",
      "5\n"
     ]
    }
   ],
   "source": [
    "if(x ==10):\n",
    "    print(\"x is 10\")\n",
    "    if(y==5):\n",
    "        print(y)\n",
    "elif(x==4):\n",
    "    print(\"x is 4\")\n",
    "else:\n",
    "    print(\" x is none of the above\")"
   ]
  },
  {
   "cell_type": "code",
   "execution_count": 29,
   "metadata": {},
   "outputs": [
    {
     "name": "stdout",
     "output_type": "stream",
     "text": [
      "positive\n"
     ]
    }
   ],
   "source": [
    "num=10\n",
    "if num>0:\n",
    "    condition='positive'\n",
    "    print(condition)\n",
    "elif num ==0:\n",
    "    condition='Zero'\n",
    "    print(condition)\n",
    "else:\n",
    "    condition='negative'\n",
    "    print(condition)"
   ]
  },
  {
   "cell_type": "markdown",
   "metadata": {},
   "source": [
    "# While Loop"
   ]
  },
  {
   "cell_type": "code",
   "execution_count": 19,
   "metadata": {},
   "outputs": [
    {
     "name": "stdout",
     "output_type": "stream",
     "text": [
      "128.0\n",
      "64.0\n",
      "32.0\n",
      "16.0\n",
      "8.0\n",
      "4.0\n",
      "2.0\n",
      "1.0\n"
     ]
    }
   ],
   "source": [
    "x=256\n",
    "count=0\n",
    "\n",
    "while(x>1):\n",
    "    x=x/2\n",
    "    print(x)"
   ]
  },
  {
   "cell_type": "code",
   "execution_count": 21,
   "metadata": {},
   "outputs": [
    {
     "name": "stdout",
     "output_type": "stream",
     "text": [
      "Less than 5\n",
      "Less than 5\n",
      "Less than 5\n",
      "Less than 5\n"
     ]
    }
   ],
   "source": [
    "x=1\n",
    "\n",
    "while(x<5):\n",
    "    print(\"Less than 5\")\n",
    "    x+=1"
   ]
  },
  {
   "cell_type": "markdown",
   "metadata": {},
   "source": [
    "## For Loops"
   ]
  },
  {
   "cell_type": "code",
   "execution_count": 22,
   "metadata": {},
   "outputs": [
    {
     "data": {
      "text/plain": [
       "range(1, 11)"
      ]
     },
     "execution_count": 22,
     "metadata": {},
     "output_type": "execute_result"
    }
   ],
   "source": [
    "range(1,11) //(1to 10)"
   ]
  },
  {
   "cell_type": "code",
   "execution_count": 24,
   "metadata": {},
   "outputs": [
    {
     "name": "stdout",
     "output_type": "stream",
     "text": [
      "110\n"
     ]
    }
   ],
   "source": [
    "total=0\n",
    "\n",
    "for iterator in range(1,11):\n",
    "    total+=iterator*2\n",
    "print(total)"
   ]
  },
  {
   "cell_type": "code",
   "execution_count": 25,
   "metadata": {},
   "outputs": [
    {
     "name": "stdout",
     "output_type": "stream",
     "text": [
      "How are you\n",
      "1\n",
      "How are you\n",
      "2\n",
      "How are you\n",
      "3\n",
      "How are you\n",
      "4\n",
      "How are you\n",
      "5\n",
      "How are you\n",
      "6\n",
      "How are you\n",
      "7\n",
      "How are you\n",
      "8\n",
      "How are you\n",
      "9\n",
      "How are you\n",
      "10\n"
     ]
    }
   ],
   "source": [
    "for x in range(1,11):\n",
    "    print(\"How are you\")\n",
    "    print(x)"
   ]
  },
  {
   "cell_type": "code",
   "execution_count": 26,
   "metadata": {},
   "outputs": [],
   "source": [
    "list1=[1,2,3,4,50,60,80,500]"
   ]
  },
  {
   "cell_type": "code",
   "execution_count": 27,
   "metadata": {},
   "outputs": [
    {
     "name": "stdout",
     "output_type": "stream",
     "text": [
      "1\n",
      "2\n",
      "3\n",
      "4\n",
      "50\n",
      "60\n",
      "80\n",
      "500\n"
     ]
    }
   ],
   "source": [
    "for x in list1:\n",
    "    print(x)"
   ]
  },
  {
   "cell_type": "code",
   "execution_count": null,
   "metadata": {},
   "outputs": [],
   "source": [
    "list1"
   ]
  },
  {
   "cell_type": "code",
   "execution_count": null,
   "metadata": {},
   "outputs": [],
   "source": [
    "x=input(\"Enter number\")\n",
    "print(x)"
   ]
  },
  {
   "cell_type": "code",
   "execution_count": 1,
   "metadata": {},
   "outputs": [
    {
     "name": "stdout",
     "output_type": "stream",
     "text": [
      "Enter number78\n",
      "78\n"
     ]
    }
   ],
   "source": [
    "x=input(\"Enter number\")\n",
    "print(x)"
   ]
  },
  {
   "cell_type": "code",
   "execution_count": 2,
   "metadata": {},
   "outputs": [],
   "source": [
    "?open"
   ]
  },
  {
   "cell_type": "code",
   "execution_count": null,
   "metadata": {},
   "outputs": [],
   "source": [
    "filepath=text_file\n",
    "\n",
    "file=open(filepath, 'r')\n",
    "\n",
    "for line in file.realLines():\n",
    "    print line\n",
    "    \n",
    "file.close()\n",
    "\n",
    "file=open(filepath, 'a+')\n",
    "\n",
    "file.write(\"Successfully written to file\")\n",
    "\n",
    "file.close()\n",
    "\n",
    "file.open(filepath, 'r')\n",
    "lines=[]\n",
    "\n",
    "for line in file.readLines():\n",
    "    lines.append(line)\n",
    "file.close()"
   ]
  },
  {
   "cell_type": "code",
   "execution_count": 5,
   "metadata": {},
   "outputs": [
    {
     "name": "stdout",
     "output_type": "stream",
     "text": [
      "{}INdex error has been found\n"
     ]
    }
   ],
   "source": [
    "name='Hello World!'\n",
    "try:\n",
    "    char=name[15]\n",
    "    print(char)\n",
    "except IndexError:\n",
    "    print(\"{}INdex error has been found\")"
   ]
  },
  {
   "cell_type": "code",
   "execution_count": 7,
   "metadata": {},
   "outputs": [
    {
     "name": "stdout",
     "output_type": "stream",
     "text": [
      "Please enter anything but 5, I dont like 5\n"
     ]
    }
   ],
   "source": [
    "name=\"Hello World\"\n",
    "x=5\n",
    "try:\n",
    "    #char=name[15]\n",
    "    #print(char)\n",
    "    if(x==5):\n",
    "        raise Exception()\n",
    "except IndexError:\n",
    "    print('Index Error has been found')\n",
    "except Exception:\n",
    "    print('Please enter anything but 5, I dont like 5')"
   ]
  },
  {
   "cell_type": "code",
   "execution_count": 11,
   "metadata": {
    "scrolled": true
   },
   "outputs": [
    {
     "name": "stdout",
     "output_type": "stream",
     "text": [
      "3.75\n",
      "Successfully Divided\n",
      "Every Block Executed\n"
     ]
    }
   ],
   "source": [
    "try:\n",
    "    print(45/12)\n",
    "except ValueError:\n",
    "    print('Caught ValueError')\n",
    "except ZeroDivisionError:\n",
    "    print('Caught ZeroDivisionError')\n",
    "else:\n",
    "    print('Successfully Divided')\n",
    "finally:\n",
    "    print('Every Block Executed')"
   ]
  },
  {
   "cell_type": "code",
   "execution_count": 27,
   "metadata": {},
   "outputs": [],
   "source": [
    "num1, num2 = 5, 0\n",
    "message\n",
    "# Code starts here\n",
    "\n",
    "# try except block\n",
    "try:\n",
    "    quotient=num1/num2\n",
    "    print(quotient)\n",
    "    message= \"Quotient is\" + ' ' + str(quotient)\n",
    "#     print(message)\n",
    "\n",
    "except ZeroDivisionError:\n",
    "    messge=\"Cannot divide by zero\"\n",
    "#     print(message)\n"
   ]
  },
  {
   "cell_type": "code",
   "execution_count": 29,
   "metadata": {},
   "outputs": [
    {
     "ename": "SyntaxError",
     "evalue": "unexpected EOF while parsing (<ipython-input-29-dbfa066fb843>, line 4)",
     "output_type": "error",
     "traceback": [
      "\u001b[1;36m  File \u001b[1;32m\"<ipython-input-29-dbfa066fb843>\"\u001b[1;36m, line \u001b[1;32m4\u001b[0m\n\u001b[1;33m    print(message)\u001b[0m\n\u001b[1;37m                  ^\u001b[0m\n\u001b[1;31mSyntaxError\u001b[0m\u001b[1;31m:\u001b[0m unexpected EOF while parsing\n"
     ]
    }
   ],
   "source": [
    "try:\n",
    "    a = 0 / 1\n",
    "    message = \"Quotient is\" + ' ' + str(a)\n",
    "    print(message)\n"
   ]
  },
  {
   "cell_type": "markdown",
   "metadata": {},
   "source": [
    "# Function"
   ]
  },
  {
   "cell_type": "code",
   "execution_count": 14,
   "metadata": {},
   "outputs": [],
   "source": [
    "def sum_user(a,b,c):\n",
    "    print('Inside Function')\n",
    "    print(a+b+c)"
   ]
  },
  {
   "cell_type": "code",
   "execution_count": 17,
   "metadata": {},
   "outputs": [
    {
     "name": "stdout",
     "output_type": "stream",
     "text": [
      "Inside Function\n",
      "20\n"
     ]
    }
   ],
   "source": [
    "out=sum_user(2+3+4,5,6)"
   ]
  },
  {
   "cell_type": "code",
   "execution_count": null,
   "metadata": {},
   "outputs": [],
   "source": [
    "def f():\n",
    "    #Local Scope\n",
    "    s = 'ME TOO'\n",
    "    print(s)\n",
    "    \n",
    "#Global Scope\n",
    "s=\"Its Great\"\n",
    "\n",
    "print(f())\n",
    "print(s)"
   ]
  },
  {
   "cell_type": "code",
   "execution_count": 31,
   "metadata": {},
   "outputs": [
    {
     "name": "stdout",
     "output_type": "stream",
     "text": [
      "The average of List is 2.5\n"
     ]
    }
   ],
   "source": [
    "def averageOfList(num):\n",
    "    sumOfNumbers = 0\n",
    "    for t in num:\n",
    "        sumOfNumbers = sumOfNumbers + t\n",
    "\n",
    "    avg = sumOfNumbers / len(num)\n",
    "    return avg\n",
    "\n",
    "\n",
    "print(\"The average of List is\", averageOfList([1, 2,3, 4]))"
   ]
  },
  {
   "cell_type": "code",
   "execution_count": 33,
   "metadata": {},
   "outputs": [
    {
     "name": "stdout",
     "output_type": "stream",
     "text": [
      "2.5\n"
     ]
    }
   ],
   "source": [
    "def mean(n):\n",
    "    sumOfNumbers=0\n",
    "    for num in n:\n",
    "        \n",
    "        sumOfNumbers+=num\n",
    "\n",
    "    val=sumOfNumbers/len(n)\n",
    "    return val\n",
    "\n",
    "print(mean([1,2,3,4]))\n",
    "\n",
    "        \n",
    "    "
   ]
  },
  {
   "cell_type": "code",
   "execution_count": 45,
   "metadata": {},
   "outputs": [
    {
     "name": "stdout",
     "output_type": "stream",
     "text": [
      "0\n",
      "1\n",
      "2\n",
      "3\n",
      "4\n",
      "2.5\n"
     ]
    }
   ],
   "source": [
    "def mean(n):\n",
    "    sumOfNumbers=0\n",
    "    for num in range(n):\n",
    "        \n",
    "        print(num)\n",
    "        sumOfNumbers+=num\n",
    "       # print(sumOfNumbers)\n",
    "\n",
    "    val=sumOfNumbers/(n-1)\n",
    "    return val\n",
    "\n",
    "print(mean(5))\n",
    "\n",
    "        "
   ]
  },
  {
   "cell_type": "code",
   "execution_count": 52,
   "metadata": {},
   "outputs": [
    {
     "name": "stdout",
     "output_type": "stream",
     "text": [
      "2\n",
      "13\n"
     ]
    }
   ],
   "source": [
    "def func():\n",
    "    print(\"1\")\n",
    "\n",
    "    return(\"12\")\n",
    "\n",
    "def func():\n",
    "    print(\"2\")\n",
    "\n",
    "    return(\"13\")\n",
    "\n",
    "print(func()) "
   ]
  },
  {
   "cell_type": "code",
   "execution_count": 53,
   "metadata": {},
   "outputs": [
    {
     "name": "stdout",
     "output_type": "stream",
     "text": [
      "3\n"
     ]
    }
   ],
   "source": [
    "global a\n",
    "\n",
    "a=2\n",
    "\n",
    "def func():\n",
    "    a=1\n",
    "    b=2\n",
    "    return (a+b)\n",
    "\n",
    "print(func())"
   ]
  },
  {
   "cell_type": "code",
   "execution_count": 54,
   "metadata": {},
   "outputs": [
    {
     "name": "stdout",
     "output_type": "stream",
     "text": [
      "[2, 4, 6, 8, 10]\n"
     ]
    }
   ],
   "source": [
    "nums = [1,2,3,4,5]\n",
    "func = lambda x: (x*2)\n",
    "output = list(map(func, nums))\n",
    "print(output)"
   ]
  },
  {
   "cell_type": "markdown",
   "metadata": {},
   "source": [
    "## Lambda"
   ]
  },
  {
   "cell_type": "code",
   "execution_count": 20,
   "metadata": {},
   "outputs": [
    {
     "name": "stdout",
     "output_type": "stream",
     "text": [
      "9\n"
     ]
    }
   ],
   "source": [
    "sumLambda=lambda x,y : x+y\n",
    "\n",
    "result=sumLambda(4,5)\n",
    "print(result)"
   ]
  },
  {
   "cell_type": "code",
   "execution_count": 21,
   "metadata": {},
   "outputs": [
    {
     "name": "stdout",
     "output_type": "stream",
     "text": [
      "[1, 4, 9, 16, 25, 36, 49, 64, 81, 100]\n"
     ]
    }
   ],
   "source": [
    "#Print Square of 10 natural number\n",
    "square=lambda num:num**2\n",
    "\n",
    "#natural number list\n",
    "nums=[1,2,3,4,5,6,7,8,9,10]\n",
    "\n",
    "#emplty List\n",
    "square_nums=[]\n",
    "\n",
    "#loop through every element in list\n",
    "\n",
    "for i in nums:\n",
    "    square_nums.append(square(i))\n",
    "    \n",
    "    #display new list\n",
    "print(square_nums)"
   ]
  },
  {
   "cell_type": "code",
   "execution_count": 22,
   "metadata": {},
   "outputs": [
    {
     "name": "stdout",
     "output_type": "stream",
     "text": [
      "[1, 4, 9, 16, 25, 36, 49, 64, 81, 100]\n"
     ]
    }
   ],
   "source": [
    "#Print Square of 10 natural number\n",
    "square=lambda num:num**2\n",
    "\n",
    "#natural number list\n",
    "nums=[1,2,3,4,5,6,7,8,9,10]\n",
    "\n",
    "#emplty List\n",
    "square_nums=[]\n",
    "\n",
    "#loop through every element in list\n",
    "\n",
    "for i in nums:\n",
    "    #square_nums.append(square(i))\n",
    "    sq=square(i)\n",
    "    square_nums.append(sq)\n",
    "    #display new list\n",
    "print(square_nums)"
   ]
  },
  {
   "cell_type": "code",
   "execution_count": null,
   "metadata": {},
   "outputs": [],
   "source": [
    "#Conditional Operator with Lambda\n",
    "square = lambda length : length % 2 == 0\n",
    "square(6)"
   ]
  },
  {
   "cell_type": "markdown",
   "metadata": {},
   "source": [
    "## Working with Higher Order Functions"
   ]
  },
  {
   "cell_type": "code",
   "execution_count": 24,
   "metadata": {},
   "outputs": [
    {
     "name": "stdout",
     "output_type": "stream",
     "text": [
      "10\n",
      "24\n"
     ]
    }
   ],
   "source": [
    "def combine_values(func, values):\n",
    "    current = values[0]\n",
    "    for i in range(1,len(values)):\n",
    "        current = func(current,values[i])\n",
    "    return current\n",
    "\n",
    "#addition\n",
    "add = lambda x,y : x+y\n",
    "\n",
    "#Multiplication\n",
    "mul = lambda x,y : x*y\n",
    "\n",
    "print(combine_values(add,[1,2,3,4]))\n",
    "\n",
    "print(combine_values(mul,[1,2,3,4]))"
   ]
  },
  {
   "cell_type": "code",
   "execution_count": 26,
   "metadata": {},
   "outputs": [
    {
     "name": "stdout",
     "output_type": "stream",
     "text": [
      "[2, 4, 6, 8, 10, 12, 14]\n"
     ]
    }
   ],
   "source": [
    "natural_nums=[1,2,3,4,5,6,7,8,9,10,11,12,13,14]\n",
    "\n",
    "is_even = lambda x : (x%2==0)\n",
    "\n",
    "filtered=list(filter(is_even, natural_nums))\n",
    "\n",
    "print(filtered)"
   ]
  },
  {
   "cell_type": "markdown",
   "metadata": {},
   "source": [
    "## Comprension"
   ]
  },
  {
   "cell_type": "code",
   "execution_count": 27,
   "metadata": {},
   "outputs": [
    {
     "name": "stdout",
     "output_type": "stream",
     "text": [
      "56\n"
     ]
    }
   ],
   "source": [
    "def even_addition(values):\n",
    "    evens = [i for i in values if not i%2]\n",
    "    return sum(evens)\n",
    "\n",
    "print(even_addition([1,2,3,4,5,6,7,8,9,10,11,12,13,14,15]))"
   ]
  },
  {
   "cell_type": "markdown",
   "metadata": {},
   "source": [
    "## In this task, you will make a list comprehension to return a list of numbers that are not present in another list of numbers.\n",
    "\n",
    "Define a list of numbers alist from 1 to 50 using a list comprehension.\n",
    "\n",
    "Define another list blist and store its values as [2,3,5,7,11,13,17,19,23,29,31,37,41,43,47].\n",
    "\n",
    "Make a list final using list comprehension which would contain elements that are in alist but not in blist.\n",
    "\n",
    "Print final"
   ]
  },
  {
   "cell_type": "code",
   "execution_count": 50,
   "metadata": {},
   "outputs": [
    {
     "name": "stdout",
     "output_type": "stream",
     "text": [
      "[1, 2, 3, 4, 5, 6, 7, 8, 9, 10, 11, 12, 13, 14, 15, 16, 17, 18, 19, 20, 21, 22, 23, 24, 25, 26, 27, 28, 29, 30, 31, 32, 33, 34, 35, 36, 37, 38, 39, 40, 41, 42, 43, 44, 45, 46, 47, 48, 49, 50]\n",
      "[2, 3, 5, 7, 11, 13, 17, 19, 23, 29, 31, 37, 41, 43, 47]\n"
     ]
    }
   ],
   "source": [
    "alist = [i for i in range(1,51)]\n",
    "print(alist)\n",
    "\n",
    "blist=[2,3,5,7,11,13,17,19,23,29,31,37,41,43,47]\n",
    "\n",
    "# final list\n",
    "final = [i for i in alist + blist if i not in alist or i not in blist]\n",
    "\n",
    "# display final list\n",
    "print(final)\n"
   ]
  },
  {
   "cell_type": "markdown",
   "metadata": {},
   "source": [
    "# Code along"
   ]
  },
  {
   "cell_type": "code",
   "execution_count": 2,
   "metadata": {},
   "outputs": [
    {
     "name": "stdout",
     "output_type": "stream",
     "text": [
      "[10, 20, 30, 40, 50, 60, 70, 80, 90, 100]\n"
     ]
    }
   ],
   "source": [
    "# initialize\n",
    "factors=[]\n",
    "num=1\n",
    "\n",
    "# while loop\n",
    "while num<=100:\n",
    "    if num%10==0:\n",
    "        factors.append(num)\n",
    "        num+=1\n",
    "    else:\n",
    "        num+=1\n",
    "\n",
    "\n",
    "\n",
    "# display answer\n",
    "print(factors)"
   ]
  },
  {
   "cell_type": "code",
   "execution_count": 10,
   "metadata": {},
   "outputs": [
    {
     "name": "stdout",
     "output_type": "stream",
     "text": [
      "[6, 12, 18, 24, 30, 36, 42, 48]\n"
     ]
    }
   ],
   "source": [
    "# initialize empty list\n",
    "divisible=[]\n",
    "\n",
    "# for loop to store elements \n",
    "for num in range(1,51):\n",
    "    if num%2==0 and num%3==0:\n",
    "        divisible.append(num)\n",
    "    \n",
    "\n",
    "\n",
    "# display list\n",
    "print(divisible)"
   ]
  },
  {
   "cell_type": "code",
   "execution_count": 11,
   "metadata": {},
   "outputs": [
    {
     "name": "stdout",
     "output_type": "stream",
     "text": [
      "Wow\n",
      "Wow\n",
      "Wow\n",
      "Wow\n"
     ]
    }
   ],
   "source": [
    "for i in range(1,5):\n",
    "    print('Wow')"
   ]
  },
  {
   "cell_type": "code",
   "execution_count": 12,
   "metadata": {},
   "outputs": [
    {
     "name": "stdout",
     "output_type": "stream",
     "text": [
      "Good movie\n"
     ]
    }
   ],
   "source": [
    "rating=4\n",
    "\n",
    "if rating>4:\n",
    "    print('Great movie')\n",
    "elif rating>2:\n",
    "    print('Good movie')\n",
    "else: \n",
    "    print('Bad movie')\n"
   ]
  },
  {
   "cell_type": "code",
   "execution_count": 13,
   "metadata": {},
   "outputs": [
    {
     "ename": "KeyboardInterrupt",
     "evalue": "",
     "output_type": "error",
     "traceback": [
      "\u001b[1;31m---------------------------------------------------------------------------\u001b[0m",
      "\u001b[1;31mKeyboardInterrupt\u001b[0m                         Traceback (most recent call last)",
      "\u001b[1;32m<ipython-input-13-b0a015529daf>\u001b[0m in \u001b[0;36m<module>\u001b[1;34m\u001b[0m\n\u001b[0;32m      1\u001b[0m \u001b[0mi\u001b[0m\u001b[1;33m=\u001b[0m\u001b[1;36m1\u001b[0m\u001b[1;33m\u001b[0m\u001b[1;33m\u001b[0m\u001b[0m\n\u001b[0;32m      2\u001b[0m \u001b[1;32mwhile\u001b[0m\u001b[1;33m(\u001b[0m\u001b[0mi\u001b[0m\u001b[1;33m!=\u001b[0m\u001b[1;36m10\u001b[0m\u001b[1;33m)\u001b[0m\u001b[1;33m:\u001b[0m\u001b[1;33m\u001b[0m\u001b[1;33m\u001b[0m\u001b[0m\n\u001b[1;32m----> 3\u001b[1;33m      \u001b[0mi\u001b[0m\u001b[1;33m=\u001b[0m\u001b[0mi\u001b[0m\u001b[1;33m+\u001b[0m\u001b[1;36m2\u001b[0m\u001b[1;33m\u001b[0m\u001b[1;33m\u001b[0m\u001b[0m\n\u001b[0m",
      "\u001b[1;31mKeyboardInterrupt\u001b[0m: "
     ]
    }
   ],
   "source": [
    "    i=1\n",
    "    while(i!=10):\n",
    "         i=i+2 \n"
   ]
  },
  {
   "cell_type": "code",
   "execution_count": 14,
   "metadata": {},
   "outputs": [
    {
     "name": "stdout",
     "output_type": "stream",
     "text": [
      "abra**kadabra\n"
     ]
    }
   ],
   "source": [
    "print(\"abra\",\"kadabra\" ,sep='**')"
   ]
  },
  {
   "cell_type": "code",
   "execution_count": 16,
   "metadata": {},
   "outputs": [
    {
     "name": "stdout",
     "output_type": "stream",
     "text": [
      "5\n",
      "Your number is accepted!\n"
     ]
    }
   ],
   "source": [
    "# custom input\n",
    "num = int(input())\n",
    "\n",
    "# raise exception if input is negative\n",
    "if num < 0:\n",
    "    raise Exception('{} is negative, please enter a positive number'.format(num))\n",
    "\n",
    "# print input number if it is not negative\n",
    "print('Your number is accepted!')"
   ]
  }
 ],
 "metadata": {
  "kernelspec": {
   "display_name": "Python 3",
   "language": "python",
   "name": "python3"
  },
  "language_info": {
   "codemirror_mode": {
    "name": "ipython",
    "version": 3
   },
   "file_extension": ".py",
   "mimetype": "text/x-python",
   "name": "python",
   "nbconvert_exporter": "python",
   "pygments_lexer": "ipython3",
   "version": "3.7.6"
  }
 },
 "nbformat": 4,
 "nbformat_minor": 4
}
