{
 "cells": [
  {
   "cell_type": "markdown",
   "metadata": {},
   "source": [
    "# IF ELSE STATEMENTS"
   ]
  },
  {
   "cell_type": "code",
   "execution_count": 11,
   "metadata": {},
   "outputs": [],
   "source": [
    "x=10\n",
    "y=5"
   ]
  },
  {
   "cell_type": "code",
   "execution_count": 12,
   "metadata": {},
   "outputs": [
    {
     "name": "stdout",
     "output_type": "stream",
     "text": [
      "x is 10\n",
      "5\n"
     ]
    }
   ],
   "source": [
    "if(x ==10):\n",
    "    print(\"x is 10\")\n",
    "    if(y==5):\n",
    "        print(y)\n",
    "elif(x==4):\n",
    "    print(\"x is 4\")\n",
    "else:\n",
    "    print(\" x is none of the above\")"
   ]
  },
  {
   "cell_type": "code",
   "execution_count": 18,
   "metadata": {},
   "outputs": [
    {
     "name": "stdout",
     "output_type": "stream",
     "text": [
      "positive\n"
     ]
    }
   ],
   "source": [
    "num=10\n",
    "if num>0:\n",
    "    condition='positive'\n",
    "    print(condition)\n",
    "elif num ==0:\n",
    "    condition='Zero'\n",
    "    print(condition)\n",
    "else:\n",
    "    condition='negative'\n",
    "    print(condition)"
   ]
  },
  {
   "cell_type": "markdown",
   "metadata": {},
   "source": [
    "# While Loop"
   ]
  },
  {
   "cell_type": "code",
   "execution_count": 19,
   "metadata": {},
   "outputs": [
    {
     "name": "stdout",
     "output_type": "stream",
     "text": [
      "128.0\n",
      "64.0\n",
      "32.0\n",
      "16.0\n",
      "8.0\n",
      "4.0\n",
      "2.0\n",
      "1.0\n"
     ]
    }
   ],
   "source": [
    "x=256\n",
    "count=0\n",
    "\n",
    "while(x>1):\n",
    "    x=x/2\n",
    "    print(x)"
   ]
  },
  {
   "cell_type": "code",
   "execution_count": 21,
   "metadata": {},
   "outputs": [
    {
     "name": "stdout",
     "output_type": "stream",
     "text": [
      "Less than 5\n",
      "Less than 5\n",
      "Less than 5\n",
      "Less than 5\n"
     ]
    }
   ],
   "source": [
    "x=1\n",
    "\n",
    "while(x<5):\n",
    "    print(\"Less than 5\")\n",
    "    x+=1"
   ]
  },
  {
   "cell_type": "markdown",
   "metadata": {},
   "source": [
    "## For Loops"
   ]
  },
  {
   "cell_type": "code",
   "execution_count": 22,
   "metadata": {},
   "outputs": [
    {
     "data": {
      "text/plain": [
       "range(1, 11)"
      ]
     },
     "execution_count": 22,
     "metadata": {},
     "output_type": "execute_result"
    }
   ],
   "source": [
    "range(1,11) //(1to 10)"
   ]
  },
  {
   "cell_type": "code",
   "execution_count": 24,
   "metadata": {},
   "outputs": [
    {
     "name": "stdout",
     "output_type": "stream",
     "text": [
      "110\n"
     ]
    }
   ],
   "source": [
    "total=0\n",
    "\n",
    "for iterator in range(1,11):\n",
    "    total+=iterator*2\n",
    "print(total)"
   ]
  },
  {
   "cell_type": "code",
   "execution_count": 25,
   "metadata": {},
   "outputs": [
    {
     "name": "stdout",
     "output_type": "stream",
     "text": [
      "How are you\n",
      "1\n",
      "How are you\n",
      "2\n",
      "How are you\n",
      "3\n",
      "How are you\n",
      "4\n",
      "How are you\n",
      "5\n",
      "How are you\n",
      "6\n",
      "How are you\n",
      "7\n",
      "How are you\n",
      "8\n",
      "How are you\n",
      "9\n",
      "How are you\n",
      "10\n"
     ]
    }
   ],
   "source": [
    "for x in range(1,11):\n",
    "    print(\"How are you\")\n",
    "    print(x)"
   ]
  },
  {
   "cell_type": "code",
   "execution_count": 26,
   "metadata": {},
   "outputs": [],
   "source": [
    "list1=[1,2,3,4,50,60,80,500]"
   ]
  },
  {
   "cell_type": "code",
   "execution_count": 27,
   "metadata": {},
   "outputs": [
    {
     "name": "stdout",
     "output_type": "stream",
     "text": [
      "1\n",
      "2\n",
      "3\n",
      "4\n",
      "50\n",
      "60\n",
      "80\n",
      "500\n"
     ]
    }
   ],
   "source": [
    "for x in list1:\n",
    "    print(x)"
   ]
  },
  {
   "cell_type": "code",
   "execution_count": null,
   "metadata": {},
   "outputs": [],
   "source": [
    "list1"
   ]
  },
  {
   "cell_type": "code",
   "execution_count": null,
   "metadata": {},
   "outputs": [],
   "source": [
    "x=input(\"Enter number\")\n",
    "print(x)"
   ]
  },
  {
   "cell_type": "code",
   "execution_count": 1,
   "metadata": {},
   "outputs": [
    {
     "name": "stdout",
     "output_type": "stream",
     "text": [
      "Enter number78\n",
      "78\n"
     ]
    }
   ],
   "source": [
    "x=input(\"Enter number\")\n",
    "print(x)"
   ]
  },
  {
   "cell_type": "code",
   "execution_count": 2,
   "metadata": {},
   "outputs": [],
   "source": [
    "?open"
   ]
  },
  {
   "cell_type": "code",
   "execution_count": null,
   "metadata": {},
   "outputs": [],
   "source": [
    "filepath=text_file\n",
    "\n",
    "file=open(filepath, 'r')\n",
    "\n",
    "for line in file.realLines():\n",
    "    print line\n",
    "    \n",
    "file.close()\n",
    "\n",
    "file=open(filepath, 'a+')\n",
    "\n",
    "file.write(\"Successfully written to file\")\n",
    "\n",
    "file.close()\n",
    "\n",
    "file.open(filepath, 'r')\n",
    "lines=[]\n",
    "\n",
    "for line in file.readLines():\n",
    "    lines.append(line)\n",
    "file.close()"
   ]
  },
  {
   "cell_type": "code",
   "execution_count": 5,
   "metadata": {},
   "outputs": [
    {
     "name": "stdout",
     "output_type": "stream",
     "text": [
      "{}INdex error has been found\n"
     ]
    }
   ],
   "source": [
    "name='Hello World!'\n",
    "try:\n",
    "    char=name[15]\n",
    "    print(char)\n",
    "except IndexError:\n",
    "    print(\"{}INdex error has been found\")"
   ]
  },
  {
   "cell_type": "code",
   "execution_count": 7,
   "metadata": {},
   "outputs": [
    {
     "name": "stdout",
     "output_type": "stream",
     "text": [
      "Please enter anything but 5, I dont like 5\n"
     ]
    }
   ],
   "source": [
    "name=\"Hello World\"\n",
    "x=5\n",
    "try:\n",
    "    #char=name[15]\n",
    "    #print(char)\n",
    "    if(x==5):\n",
    "        raise Exception()\n",
    "except IndexError:\n",
    "    print('Index Error has been found')\n",
    "except Exception:\n",
    "    print('Please enter anything but 5, I dont like 5')"
   ]
  },
  {
   "cell_type": "code",
   "execution_count": 11,
   "metadata": {
    "scrolled": true
   },
   "outputs": [
    {
     "name": "stdout",
     "output_type": "stream",
     "text": [
      "3.75\n",
      "Successfully Divided\n",
      "Every Block Executed\n"
     ]
    }
   ],
   "source": [
    "try:\n",
    "    print(45/12)\n",
    "except ValueError:\n",
    "    print('Caught ValueError')\n",
    "except ZeroDivisionError:\n",
    "    print('Caught ZeroDivisionError')\n",
    "else:\n",
    "    print('Successfully Divided')\n",
    "finally:\n",
    "    print('Every Block Executed')"
   ]
  },
  {
   "cell_type": "markdown",
   "metadata": {},
   "source": [
    "# Function"
   ]
  },
  {
   "cell_type": "code",
   "execution_count": 14,
   "metadata": {},
   "outputs": [],
   "source": [
    "def sum_user(a,b,c):\n",
    "    print('Inside Function')\n",
    "    print(a+b+c)"
   ]
  },
  {
   "cell_type": "code",
   "execution_count": 17,
   "metadata": {},
   "outputs": [
    {
     "name": "stdout",
     "output_type": "stream",
     "text": [
      "Inside Function\n",
      "20\n"
     ]
    }
   ],
   "source": [
    "out=sum_user(2+3+4,5,6)"
   ]
  },
  {
   "cell_type": "code",
   "execution_count": null,
   "metadata": {},
   "outputs": [],
   "source": [
    "def f():\n",
    "    #Local Scope\n",
    "    s = 'ME TOO'\n",
    "    print(s)\n",
    "    \n",
    "#Global Scope\n",
    "s=\"Its Great\"\n",
    "\n",
    "print(f())\n",
    "print(s)"
   ]
  },
  {
   "cell_type": "markdown",
   "metadata": {},
   "source": [
    "## Lambda"
   ]
  },
  {
   "cell_type": "code",
   "execution_count": 20,
   "metadata": {},
   "outputs": [
    {
     "name": "stdout",
     "output_type": "stream",
     "text": [
      "9\n"
     ]
    }
   ],
   "source": [
    "sumLambda=lambda x,y : x+y\n",
    "\n",
    "result=sumLambda(4,5)\n",
    "print(result)"
   ]
  },
  {
   "cell_type": "code",
   "execution_count": 21,
   "metadata": {},
   "outputs": [
    {
     "name": "stdout",
     "output_type": "stream",
     "text": [
      "[1, 4, 9, 16, 25, 36, 49, 64, 81, 100]\n"
     ]
    }
   ],
   "source": [
    "#Print Square of 10 natural number\n",
    "square=lambda num:num**2\n",
    "\n",
    "#natural number list\n",
    "nums=[1,2,3,4,5,6,7,8,9,10]\n",
    "\n",
    "#emplty List\n",
    "square_nums=[]\n",
    "\n",
    "#loop through every element in list\n",
    "\n",
    "for i in nums:\n",
    "    square_nums.append(square(i))\n",
    "    \n",
    "    #display new list\n",
    "print(square_nums)"
   ]
  },
  {
   "cell_type": "code",
   "execution_count": 22,
   "metadata": {},
   "outputs": [
    {
     "name": "stdout",
     "output_type": "stream",
     "text": [
      "[1, 4, 9, 16, 25, 36, 49, 64, 81, 100]\n"
     ]
    }
   ],
   "source": [
    "#Print Square of 10 natural number\n",
    "square=lambda num:num**2\n",
    "\n",
    "#natural number list\n",
    "nums=[1,2,3,4,5,6,7,8,9,10]\n",
    "\n",
    "#emplty List\n",
    "square_nums=[]\n",
    "\n",
    "#loop through every element in list\n",
    "\n",
    "for i in nums:\n",
    "    #square_nums.append(square(i))\n",
    "    sq=square(i)\n",
    "    square_nums.append(sq)\n",
    "    #display new list\n",
    "print(square_nums)"
   ]
  },
  {
   "cell_type": "code",
   "execution_count": null,
   "metadata": {},
   "outputs": [],
   "source": [
    "#Conditional Operator with Lambda\n",
    "square = lambda length : length % 2 == 0\n",
    "square(6)"
   ]
  },
  {
   "cell_type": "markdown",
   "metadata": {},
   "source": [
    "## Working with Higher Order Functions"
   ]
  },
  {
   "cell_type": "code",
   "execution_count": 24,
   "metadata": {},
   "outputs": [
    {
     "name": "stdout",
     "output_type": "stream",
     "text": [
      "10\n",
      "24\n"
     ]
    }
   ],
   "source": [
    "def combine_values(func, values):\n",
    "    current = values[0]\n",
    "    for i in range(1,len(values)):\n",
    "        current = func(current,values[i])\n",
    "    return current\n",
    "\n",
    "#addition\n",
    "add = lambda x,y : x+y\n",
    "\n",
    "#Multiplication\n",
    "mul = lambda x,y : x*y\n",
    "\n",
    "print(combine_values(add,[1,2,3,4]))\n",
    "\n",
    "print(combine_values(mul,[1,2,3,4]))"
   ]
  },
  {
   "cell_type": "code",
   "execution_count": 26,
   "metadata": {},
   "outputs": [
    {
     "name": "stdout",
     "output_type": "stream",
     "text": [
      "[2, 4, 6, 8, 10, 12, 14]\n"
     ]
    }
   ],
   "source": [
    "natural_nums=[1,2,3,4,5,6,7,8,9,10,11,12,13,14]\n",
    "\n",
    "is_even = lambda x : (x%2==0)\n",
    "\n",
    "filtered=list(filter(is_even, natural_nums))\n",
    "\n",
    "print(filtered)"
   ]
  },
  {
   "cell_type": "markdown",
   "metadata": {},
   "source": [
    "## Comprension"
   ]
  },
  {
   "cell_type": "code",
   "execution_count": 27,
   "metadata": {},
   "outputs": [
    {
     "name": "stdout",
     "output_type": "stream",
     "text": [
      "56\n"
     ]
    }
   ],
   "source": [
    "def even_addition(values):\n",
    "    evens = [i for i in values if not i%2]\n",
    "    return sum(evens)\n",
    "\n",
    "print(even_addition([1,2,3,4,5,6,7,8,9,10,11,12,13,14,15]))"
   ]
  },
  {
   "cell_type": "markdown",
   "metadata": {},
   "source": [
    "# Code along"
   ]
  },
  {
   "cell_type": "code",
   "execution_count": null,
   "metadata": {},
   "outputs": [],
   "source": []
  },
  {
   "cell_type": "code",
   "execution_count": null,
   "metadata": {},
   "outputs": [],
   "source": []
  },
  {
   "cell_type": "code",
   "execution_count": null,
   "metadata": {},
   "outputs": [],
   "source": []
  },
  {
   "cell_type": "code",
   "execution_count": null,
   "metadata": {},
   "outputs": [],
   "source": []
  },
  {
   "cell_type": "code",
   "execution_count": null,
   "metadata": {},
   "outputs": [],
   "source": []
  }
 ],
 "metadata": {
  "kernelspec": {
   "display_name": "Python 3",
   "language": "python",
   "name": "python3"
  },
  "language_info": {
   "codemirror_mode": {
    "name": "ipython",
    "version": 3
   },
   "file_extension": ".py",
   "mimetype": "text/x-python",
   "name": "python",
   "nbconvert_exporter": "python",
   "pygments_lexer": "ipython3",
   "version": "3.7.6"
  }
 },
 "nbformat": 4,
 "nbformat_minor": 4
}
