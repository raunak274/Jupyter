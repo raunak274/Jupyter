{
 "cells": [
  {
   "cell_type": "markdown",
   "metadata": {},
   "source": [
    "# What is Numpy\n",
    "\n",
    "It stands for \"Numerical Python\". NumPy is a Python module that provides fast and efficient array operations of homogeneous data. It is the core library for scientific computing in Python providing a high-performance multidimensional array object, and tools for working with arrays.\n",
    "\n",
    "NumPy is one of the many packages that are extremely essential in your data science journey because this library equips you with an array data structure that offers some benefits over the traditional data structures of Python like lists."
   ]
  },
  {
   "cell_type": "markdown",
   "metadata": {},
   "source": [
    "## NumPy Arrays"
   ]
  },
  {
   "cell_type": "markdown",
   "metadata": {},
   "source": [
    "The central feature of NumPy is the array object class, also called the ndarray. Arrays are very similar to lists in Python, except that every element of an array must be of the same type (in lists you can hold data which have different types), typically a numeric type like float or int. It is very much similar to an n-dimensional matrix which looks like:\n",
    "\n",
    "arrays\n",
    "\n",
    "Arrays make operations with large amounts of numeric data very fast and are generally much more efficient than lists. You can choose to create arrays of n dimensions (Python list is an array of pointers to Python objects, at least 4 bytes per pointer plus 16 bytes for even the smallest Python object; 4 for type pointer, 4 for reference count, 4 for value and the memory allocators rounds up to 16. A NumPy array is an array of uniform values -- single-precision numbers takes 4 bytes each, double-precision ones, 8 bytes)."
   ]
  },
  {
   "cell_type": "markdown",
   "metadata": {},
   "source": [
    "# Creating NumPy arrays\n",
    "The syntax of creating a NumPy array is:\n",
    "\n",
    "numpy.array(object, dtype = None, copy = True, order = None, subok = False, ndmin = 0)\n",
    "\n",
    "Here, the arguments\n",
    "\n",
    "object: Any object exposing the array interface\n",
    "dtype: Desired data type of array, optional\n",
    "copy: Optional. By default (true), the object is copied\n",
    "order: C (row-major) or F (column-major) or A (any) (default)\n",
    "subok: By default, returned array forced to be a base class array. If true, sub-classes passed through\n",
    "ndim: Specifies minimum dimensions of the resultant array\n",
    "Let's see how you can create a simple array using NumPy by first importing the package numpy as np\n",
    "\n",
    "import numpy as np\n",
    "a = np.array([1,2,3,4])               # creates a 1-dimensional array\n",
    "b = np.array([[1,2,3,4], [5,6,7,8]])    # creates a 2-dimensional array\n",
    "print(a)\n",
    "print('----')\n",
    "print(b)\n",
    "Its output will be\n",
    "\n",
    "[1 2 3 4]\n",
    "----\n",
    "[[1 2 3 4]\n",
    " [5 6 7 8]]\n",
    " \n",
    "# Advantages of using NumPy\n",
    "\n",
    "Absolutely free since open-sourced\n",
    "Faster access in reading and writing items\n",
    "Time and space complexity of tasks is much lower when compared with traditional data structures\n",
    "Has a lot of built-in functions for linear algebra\n"
   ]
  },
  {
   "cell_type": "code",
   "execution_count": 15,
   "metadata": {},
   "outputs": [
    {
     "name": "stdout",
     "output_type": "stream",
     "text": [
      "Array element in a :  [[1 2 3]\n",
      " [5 6 7]]\n",
      "Shape of Aray a :  (2, 3)\n",
      "Dimension of a :  2\n",
      "Size of a :  6\n",
      "Arrray element in b :  [ 1  2  3  4  5  6  7  8  9 10]\n",
      "Shape of b :  (10,)\n",
      "Reshaped Array is :  [[ 1  2]\n",
      " [ 3  4]\n",
      " [ 5  6]\n",
      " [ 7  8]\n",
      " [ 9 10]]\n"
     ]
    }
   ],
   "source": [
    "import numpy as np\n",
    "\n",
    "a=np.array([[1,2,3],[5,6,7]])\n",
    "b=np.arange(1,11)\n",
    "print('Array element in a : ',a)\n",
    "print('Shape of Aray a : ',a.shape)\n",
    "print('Dimension of a : ',a.ndim)\n",
    "print('Size of a : ',a.size)\n",
    "print('Arrray element in b : ',b)\n",
    "print('Shape of b : ',b.shape)\n",
    "reshaped=b.reshape(5,2)\n",
    "print('Reshaped Array is : ',reshaped)"
   ]
  },
  {
   "cell_type": "markdown",
   "metadata": {},
   "source": [
    "# Check Attributes of the array\n",
    "In this task, you will check out the important attributes for a NumPy array\n",
    "\n",
    "Make a NumPy array also named array which consists of the first 10 natural numbers using the np.arange(1, 11) command (you will learn how to create such forms later on during the course).\n",
    "Check out its dimension and save it as dim.\n",
    "Reshape the above array into a (5, 2) array using the .reshape(5,2) on the previous array. You have to create a new array altogether for this operation so do not forget to assign to a new variable reshaped.\n",
    "Check out the new dimension and save it as new_dim.\n",
    "Print out dim and new_dim.\n",
    "Test Cases: The calculated value of dim should be 1.\n",
    "The calculated value of new_dim should be 2."
   ]
  },
  {
   "cell_type": "code",
   "execution_count": 16,
   "metadata": {},
   "outputs": [
    {
     "name": "stdout",
     "output_type": "stream",
     "text": [
      "1\n",
      "[[ 1  2]\n",
      " [ 3  4]\n",
      " [ 5  6]\n",
      " [ 7  8]\n",
      " [ 9 10]]\n",
      "2\n"
     ]
    }
   ],
   "source": [
    "import numpy as np\n",
    "# Code starts here\n",
    "\n",
    "# initialize NumPy array\n",
    "array=np.arange(1,11)\n",
    "\n",
    "# check dimensions\n",
    "dim=(array.ndim)\n",
    "print(dim)\n",
    "\n",
    "\n",
    "# reshaped array\n",
    "reshaped=array.reshape(5,2)\n",
    "print(reshaped)\n",
    "# check shape\n",
    "\n",
    "new_dim=(reshaped.ndim)\n",
    "print(new_dim)\n",
    "# Code ends here"
   ]
  },
  {
   "cell_type": "code",
   "execution_count": 22,
   "metadata": {},
   "outputs": [
    {
     "data": {
      "text/plain": [
       "array([[   0,  -56,   63,   59],\n",
       "       [-127,    2,    0,    0],\n",
       "       [   0,    0,    0,    0],\n",
       "       [   0,    0,    0,    0],\n",
       "       [   3,    0,    2,    0]], dtype=int8)"
      ]
     },
     "execution_count": 22,
     "metadata": {},
     "output_type": "execute_result"
    }
   ],
   "source": [
    "#Creates an uninitialized (arbitrary) array of specified shape and dtype\n",
    "\n",
    "import numpy as np\n",
    "np.empty((5,4),dtype='int8')"
   ]
  },
  {
   "cell_type": "code",
   "execution_count": 25,
   "metadata": {},
   "outputs": [
    {
     "data": {
      "text/plain": [
       "array([[0, 0, 0, 0],\n",
       "       [0, 0, 0, 0],\n",
       "       [0, 0, 0, 0]], dtype=int8)"
      ]
     },
     "execution_count": 25,
     "metadata": {},
     "output_type": "execute_result"
    }
   ],
   "source": [
    "#Creates a new array of specified size, filled with zeros\n",
    "np.zeros((3,4),dtype='int8')"
   ]
  },
  {
   "cell_type": "code",
   "execution_count": 26,
   "metadata": {},
   "outputs": [
    {
     "data": {
      "text/plain": [
       "array([[1, 1, 1, 1],\n",
       "       [1, 1, 1, 1],\n",
       "       [1, 1, 1, 1]], dtype=int8)"
      ]
     },
     "execution_count": 26,
     "metadata": {},
     "output_type": "execute_result"
    }
   ],
   "source": [
    "np.ones((3,4),dtype='int8')"
   ]
  },
  {
   "cell_type": "code",
   "execution_count": 27,
   "metadata": {},
   "outputs": [
    {
     "data": {
      "text/plain": [
       "array([[7, 7, 7, 7],\n",
       "       [7, 7, 7, 7],\n",
       "       [7, 7, 7, 7]])"
      ]
     },
     "execution_count": 27,
     "metadata": {},
     "output_type": "execute_result"
    }
   ],
   "source": [
    "#Creates a new array of given shape and type, filled with a constant value\n",
    "\n",
    "np.full((3,4),7)"
   ]
  },
  {
   "cell_type": "code",
   "execution_count": 28,
   "metadata": {},
   "outputs": [
    {
     "data": {
      "text/plain": [
       "array([[1., 0., 0.],\n",
       "       [0., 1., 0.],\n",
       "       [0., 0., 1.]])"
      ]
     },
     "execution_count": 28,
     "metadata": {},
     "output_type": "execute_result"
    }
   ],
   "source": [
    "#Creates a 2-D array with ones on the diagonal and zeros elsewhere\n",
    "\n",
    "np.eye(3)"
   ]
  },
  {
   "cell_type": "code",
   "execution_count": 29,
   "metadata": {},
   "outputs": [
    {
     "name": "stdout",
     "output_type": "stream",
     "text": [
      "[[1. 0. 0. 0.]\n",
      " [0. 1. 0. 0.]\n",
      " [0. 0. 1. 0.]\n",
      " [0. 0. 0. 1.]]\n"
     ]
    }
   ],
   "source": [
    "import numpy as np\n",
    "# identity 4x4 matrix\n",
    "array=np.eye((4),dtype='float32')\n",
    "\n",
    "# display\n",
    "print(array)"
   ]
  },
  {
   "cell_type": "code",
   "execution_count": 32,
   "metadata": {},
   "outputs": [
    {
     "name": "stdout",
     "output_type": "stream",
     "text": [
      "<class 'list'>\n",
      "[1 2 3]\n",
      "<class 'numpy.ndarray'>\n"
     ]
    }
   ],
   "source": [
    "#python list\n",
    "a=[1,2,3]\n",
    "print(type(a))\n",
    "#convert to NumPy array\n",
    "b=np.asarray(a)\n",
    "print(b)\n",
    "print(type(b))"
   ]
  },
  {
   "cell_type": "code",
   "execution_count": 33,
   "metadata": {},
   "outputs": [
    {
     "name": "stdout",
     "output_type": "stream",
     "text": [
      "[[1 2]\n",
      " [3 4]]\n"
     ]
    }
   ],
   "source": [
    "#python tuples\n",
    "a=((1,2),(3,4))\n",
    "\n",
    "#convery to NumPy array\n",
    "b=np.asarray(a)\n",
    "print(b)\n"
   ]
  },
  {
   "cell_type": "code",
   "execution_count": 38,
   "metadata": {},
   "outputs": [
    {
     "name": "stdout",
     "output_type": "stream",
     "text": [
      "Array a is  [1 2 3 4]\n",
      "Array b is  [1 2 3 4]\n",
      "Array c is  [1 2 3 4]\n",
      "Array d is  [b'R' b'a' b'u' b'n' b'a' b'k']\n",
      "Data type of d is  <class 'numpy.ndarray'>\n"
     ]
    }
   ],
   "source": [
    "a=np.fromiter([1,2,3,4],dtype='int8')\n",
    "b=np.fromiter((1,2,3,4),dtype='int8')\n",
    "c=np.fromiter(range(1,5),dtype='int8')\n",
    "d=np.fromiter('Raunak',dtype='S50')\n",
    "\n",
    "print(\"Array a is \",a)\n",
    "print(\"Array b is \",b)\n",
    "print(\"Array c is \",c)\n",
    "print(\"Array d is \",d)\n",
    "print(\"Data type of d is \",type(d))"
   ]
  },
  {
   "cell_type": "code",
   "execution_count": 39,
   "metadata": {},
   "outputs": [
    {
     "name": "stdout",
     "output_type": "stream",
     "text": [
      "[ 1  2  3  4  5  6  7  8  9 10 11 12 13 14 15 16 17 18 19]\n",
      "[ 1  3  5  7  9 11 13 15 17 19]\n"
     ]
    }
   ],
   "source": [
    "# NumPy array from 1 to 19\n",
    "print(np.arange(1,20,dtype='int32'))\n",
    "\n",
    "# NumPy array from 1 to 19 with step size 2\n",
    "print(np.arange(1,20,2,dtype='int8'))"
   ]
  },
  {
   "cell_type": "code",
   "execution_count": 53,
   "metadata": {},
   "outputs": [
    {
     "name": "stdout",
     "output_type": "stream",
     "text": [
      "(array([ 1,  1,  1,  1,  1,  1,  2,  2,  2,  2,  2,  3,  3,  3,  3,  3,  4,\n",
      "        4,  4,  4,  4,  5,  5,  5,  5,  5,  5,  6,  6,  6,  6,  6,  7,  7,\n",
      "        7,  7,  7,  8,  8,  8,  8,  8,  9,  9,  9,  9,  9, 10, 10, 10, 10,\n",
      "       10, 10, 11, 11, 11, 11, 11, 12, 12, 12, 12, 12, 13, 13, 13, 13, 13,\n",
      "       14, 14, 14, 14, 14, 15, 15, 15, 15, 15, 15, 16, 16, 16, 16, 16, 17,\n",
      "       17, 17, 17, 17, 18, 18, 18, 18, 18, 19, 19, 19, 19, 19, 20],\n",
      "      dtype=int8), 0.1919191919191919)\n"
     ]
    }
   ],
   "source": [
    "# NumPy array from 1 to 20 with 100 numbers in between\n",
    "print(np.linspace(1,20,100,7,8,'int8'))"
   ]
  },
  {
   "cell_type": "code",
   "execution_count": 55,
   "metadata": {},
   "outputs": [
    {
     "data": {
      "text/plain": [
       "array([list([2, 3, 4]), list([5, 6, 7]), list([8, 9, 10, 11])],\n",
       "      dtype=object)"
      ]
     },
     "execution_count": 55,
     "metadata": {},
     "output_type": "execute_result"
    }
   ],
   "source": [
    "np.array([[2,3,4],[5,6,7],[8,9,10,11]])"
   ]
  },
  {
   "cell_type": "code",
   "execution_count": 56,
   "metadata": {},
   "outputs": [
    {
     "data": {
      "text/plain": [
       "array([0, 1, 2, 3, 4])"
      ]
     },
     "execution_count": 56,
     "metadata": {},
     "output_type": "execute_result"
    }
   ],
   "source": [
    "np.arange(5)"
   ]
  },
  {
   "cell_type": "code",
   "execution_count": 58,
   "metadata": {},
   "outputs": [
    {
     "name": "stdout",
     "output_type": "stream",
     "text": [
      "[[0 1 2]\n",
      " [3 4 5]\n",
      " [6 7 8]]\n",
      "4\n"
     ]
    }
   ],
   "source": [
    "import numpy as np\n",
    "a = np.arange(9).reshape(3,3)\n",
    "print(a)\n",
    "print(a[1,1])"
   ]
  },
  {
   "cell_type": "code",
   "execution_count": 68,
   "metadata": {},
   "outputs": [
    {
     "name": "stdout",
     "output_type": "stream",
     "text": [
      "[3. +0.j 4.5+0.j 0. +0.j]\n",
      "[3.+5.j]\n"
     ]
    }
   ],
   "source": [
    "# Code starts here\n",
    "import numpy as np\n",
    "# initialize array\n",
    "array=np.array([3,4.5,3+5j,0])\n",
    "\n",
    "# boolean filter\n",
    "\n",
    "real=np.isreal(array)\n",
    "real_array=array[real]\n",
    "print(real_array)\n",
    "\n",
    "# boolean filter\n",
    "\n",
    "imag=np.iscomplex(array)\n",
    "imag_array=array[imag]\n",
    "print(imag_array)\n",
    "\n",
    "\n",
    "# Code ends here"
   ]
  },
  {
   "cell_type": "markdown",
   "metadata": {},
   "source": [
    "# What is vectorization?\n",
    "Vectorization is the ability of NumPy by which we can perform operations on entire arrays rather than on a single element. When looping over an array or any data structure in Python, there’s a lot of overhead involved. Vectorized operations in NumPy delegate the looping internally to highly optimized C and Fortran functions, making for a cleaner and faster Python code.\n",
    "\n",
    "Examples\n",
    "You have already come across such an example in Boolean indexing.\n",
    "\n",
    "import numpy as np\n",
    "a = np.array([1,2,3,4,5,6,7])\n",
    "print(a[a > 2])\n",
    "The above codeblock will output the array [3, 4, 5, 6, 7] as it compares each element being greater than or less than 2.\n",
    "\n",
    "Vectorized operations\n",
    "No, let us look at how you can do some elementary vectorized operations like addition, subtraction, multiplication etc. Images below depict the type of operations and their corresponding output.\n",
    "\n",
    "Addition\n",
    "Two ways to go about it, using either + or np.add()\n",
    "\n",
    "a = np.array([[1,2,3],[4,5,6],[7,8,9]])\n",
    "b=np.array([[10,11,12],[13,14,15],[16,17,18]])\n",
    "\n",
    "# element wise addition\n",
    "print(a+b)\n",
    "print('==========')\n",
    "print(np.add(a,b))\n",
    "Output\n",
    "\n",
    "[[11 13 15]\n",
    " [17 19 21]\n",
    " [23 25 27]]\n",
    "==========\n",
    "[[11 13 15]\n",
    " [17 19 21]\n",
    " [23 25 27]]\n",
    "Subtraction\n",
    "Two ways, - or np.subtract()\n",
    "\n",
    "# element wise subtractions\n",
    "print(a-b)\n",
    "print('==========')\n",
    "print(np.subtract(a,b))\n",
    "Output\n",
    "\n",
    "[[-9 -9 -9]\n",
    " [-9 -9 -9]\n",
    " [-9 -9 -9]]\n",
    "==========\n",
    "[[-9 -9 -9]\n",
    " [-9 -9 -9]\n",
    " [-9 -9 -9]]\n",
    "Multiplication\n",
    "Two ways, * or np.multiply()\n",
    "\n",
    "# element wise multiplication\n",
    "print(a*b)\n",
    "print('==========')\n",
    "print(np.multiply(a,b))\n",
    "Output\n",
    "\n",
    "[[ 10  22  36]\n",
    " [ 52  70  90]\n",
    " [112 136 162]]\n",
    "==========\n",
    "[[ 10  22  36]\n",
    " [ 52  70  90]\n",
    " [112 136 162]]\n",
    "Division\n",
    "Two ways, / or np.divide()\n",
    "\n",
    "# element wise division\n",
    "print(a/b)\n",
    "print('==========')\n",
    "print(np.divide(a,b))\n",
    "Output\n",
    "\n",
    "[[0.1        0.18181818 0.25      ]\n",
    " [0.30769231 0.35714286 0.4       ]\n",
    " [0.4375     0.47058824 0.5       ]]\n",
    "==========\n",
    "[[0.1        0.18181818 0.25      ]\n",
    " [0.30769231 0.35714286 0.4       ]\n",
    " [0.4375     0.47058824 0.5       ]]\n",
    "Square root transform\n",
    "Use np.sqrt()\n",
    "\n",
    "# element wise square root transform\n",
    "a = np.array([[1,4,9],[16,25,36]])\n",
    "print(np.sqrt(a))\n",
    "Output\n",
    "\n",
    "[[1. 2. 3.]\n",
    " [4. 5. 6.]]\n",
    "Log transform\n",
    "Use np.log()\n",
    "\n",
    "# element wise square root transform\n",
    "a = np.array([[1,4,9],[16,25,36]])\n",
    "print(np.log(a))\n",
    "Output\n",
    "\n",
    "[[0.         1.38629436 2.19722458]\n",
    " [2.77258872 3.21887582 3.58351894]]\n",
    "Aggregrate operations\n",
    "Aggregration operations are those where we perform some operation on the entire array. Some commonly used aggregrate operations are listed below:\n",
    "\n",
    "Command\tDescription\n",
    "a.sum()\tArray-wise sum\n",
    "a.min()\tArray-wise minimum value\n",
    "a.max(axis=0)\tMaximum value of an array row\n",
    "a.cumsum(axis=1)\tCumulative sum of the elements\n",
    "a.mean()\tMean\n",
    "np.median(a)\tMedian\n",
    "np.corrcoef(a)\tCorrelation coefficient\n",
    "np.std(a)\tStandard deviation\n",
    "Array comparison\n",
    "You already saw how you can perform element-wise comparison of array elements. With NumPy you also perform entire array comparisons. Use the command np.array_equal() for array comparison. It is illustrated with examples below:\n",
    "\n",
    "a = np.array([1,2,3,4])\n",
    "b = np.array([1,2,3,4])\n",
    "print(np.array_equal(a,b))\n",
    "Output\n",
    "\n",
    "True\n",
    "a = np.array([1,2,3,4])\n",
    "b = np.array([5,6,7,8])\n",
    "print(np.array_equal(a,b))\n",
    "Output\n",
    "\n",
    "False\n",
    "Understanding Axes notation\n",
    "In NumPy, an axis refers to a single dimension of a multidimensional array. By changing axis you can compute across dimensions, whereas not specifying axis will result in computation over the entire array.\n",
    "\n",
    "a = np.array([[1,4,9],[16,25,36]])\n",
    "\n",
    "# computes sum over columns\n",
    "print(a.sum(Axis=0))\n",
    "print('==========')\n",
    "\n",
    "# computes sum over rows\n",
    "print(a.sum(axis=1))\n",
    "print('==========')\n",
    "\n",
    "# computes total sum\n",
    "print(a.sum())\n",
    "Output\n",
    "\n",
    "[17 29 45]\n",
    "==========\n",
    "[14 77]\n",
    "==========\n",
    "91\n",
    "In the image above you can calculate the sum over the rows, columns and the entire array just by playing around the parameter axis. Try it more on arrays with 3 or more dimensions!\n",
    "\n"
   ]
  },
  {
   "cell_type": "code",
   "execution_count": 76,
   "metadata": {},
   "outputs": [
    {
     "name": "stdout",
     "output_type": "stream",
     "text": [
      "[[ 1  3  6 10]\n",
      " [ 2  5  9 14]]\n"
     ]
    },
    {
     "data": {
      "text/plain": [
       "array([[1., 1.],\n",
       "       [1., 1.]])"
      ]
     },
     "execution_count": 76,
     "metadata": {},
     "output_type": "execute_result"
    }
   ],
   "source": [
    "a = np.array([[1,2,3,4],[2,3,4,5]])\n",
    "b = np.array([1,2,3,4])\n",
    "np.sum(a+b)\n",
    "print(a.cumsum(axis=1))\n",
    "a.sum()\n",
    "np.corrcoef(a)"
   ]
  },
  {
   "cell_type": "code",
   "execution_count": 78,
   "metadata": {},
   "outputs": [
    {
     "name": "stdout",
     "output_type": "stream",
     "text": [
      "[[ 1  4  9]\n",
      " [16 25 36]]\n"
     ]
    }
   ],
   "source": [
    "a = np.array([[1,4,9],[16,25,36]])\n",
    "print(a)"
   ]
  },
  {
   "cell_type": "code",
   "execution_count": 79,
   "metadata": {},
   "outputs": [
    {
     "data": {
      "text/plain": [
       "array([17, 29, 45])"
      ]
     },
     "execution_count": 79,
     "metadata": {},
     "output_type": "execute_result"
    }
   ],
   "source": [
    "a.sum(axis=0)"
   ]
  },
  {
   "cell_type": "code",
   "execution_count": 80,
   "metadata": {},
   "outputs": [
    {
     "data": {
      "text/plain": [
       "array([14, 77])"
      ]
     },
     "execution_count": 80,
     "metadata": {},
     "output_type": "execute_result"
    }
   ],
   "source": [
    "a.sum(axis=1)"
   ]
  },
  {
   "cell_type": "code",
   "execution_count": 82,
   "metadata": {},
   "outputs": [],
   "source": [
    "b=np.array([[5,6,7],[1,2,3],[2,3,4]])"
   ]
  },
  {
   "cell_type": "code",
   "execution_count": 84,
   "metadata": {},
   "outputs": [
    {
     "data": {
      "text/plain": [
       "array([ 8, 11, 14])"
      ]
     },
     "execution_count": 84,
     "metadata": {},
     "output_type": "execute_result"
    }
   ],
   "source": [
    "b.sum(axis=0)"
   ]
  },
  {
   "cell_type": "code",
   "execution_count": 85,
   "metadata": {},
   "outputs": [
    {
     "data": {
      "text/plain": [
       "array([18,  6,  9])"
      ]
     },
     "execution_count": 85,
     "metadata": {},
     "output_type": "execute_result"
    }
   ],
   "source": [
    "b.sum(axis=1)"
   ]
  },
  {
   "cell_type": "markdown",
   "metadata": {},
   "source": [
    "# Buy/ Sell for maximum profit\n",
    "In this task, you will combine vectorization and aggregation methods to solve a BUY-SELL problem. You have a range of prices at 3 intervals of a day for 2 consecutive days and you can buy and sell only once. First, you will buy and then sell for the maximum profit.\n",
    "\n",
    "Initialize an array prices = [[40, 35, 20], [21, 48, 70]]. Here, 40 is the market price during the first interval of the first day and 35 during the second interval and so on. Similarly, 21 is the price during the first half of the second day and 48 during the second half\n",
    "Flatten the array with the .flatten() method. This method will convert your 2-D array into a 1-D array and store it in variable prices.\n",
    "Find the minimum over the flattened array using np.min(), this will be your buying_price\n",
    "Also find the index of buying price by first converting the array into a list using list(array) and then use the .index(buying_price) attribute to pick the index of the buying price and store it in a variable index\n",
    "Create a new subset starting from the index (created in the previous step) till the end of the array and find the maximum value using np.max() in it. This will be your selling_price\n",
    "Find the difference between buying and selling price and save the same in variable profit\n",
    "Test Cases: The calculated value of buying_price should be 20.\n",
    "The calculated value of selling_price should be 70.\n",
    "The calculated value of profit should be 50."
   ]
  },
  {
   "cell_type": "code",
   "execution_count": 88,
   "metadata": {},
   "outputs": [
    {
     "name": "stdout",
     "output_type": "stream",
     "text": [
      "[[40 35 20]\n",
      " [21 48 70]]\n",
      "[40 35 20 21 48 70]\n",
      "20\n",
      "2\n",
      "[40 35 20 21 48 70]\n",
      "70\n",
      "50\n"
     ]
    }
   ],
   "source": [
    "import numpy as np\n",
    "# initialize array for prices\n",
    "prices = np.array([[40,35,20],[21,48,70]])\n",
    "\n",
    "print(prices)\n",
    "# Code starts here\n",
    "\n",
    "# flatten the array\n",
    "prices=prices.flatten()\n",
    "# print(prices)\n",
    "print(prices)\n",
    "\n",
    "# minimum price\n",
    "buying_price=np.min(prices)\n",
    "print(buying_price)\n",
    "\n",
    "# index of buying price\n",
    "index=list(prices).index(buying_price)\n",
    "print(index)\n",
    "print(prices)\n",
    "# create subset\n",
    "selling_price=np.max(prices[index:])\n",
    "\n",
    "# print(selling_price)\n",
    "print(selling_price)\n",
    "\n",
    "# selling price\n",
    "\n",
    "\n",
    "# profit\n",
    "\n",
    "profit=selling_price-buying_price\n",
    "\n",
    "# display\n",
    "print(profit)\n",
    "\n",
    "\n",
    "# Code ends here"
   ]
  },
  {
   "cell_type": "markdown",
   "metadata": {},
   "source": [
    "# What is broadcasting?\n",
    "Have you wondered how this operation np.array([1, 2, 3]) + 4 was successfully carried out? It was all due to the broadcasting power of NumPy arrays. Let's discuss this property in details.\n",
    "\n",
    "In NumPy you do not need arrays to be of the same shape while performing operations among them until these conditions are satisfied:\n",
    "\n",
    "If the arrays do not have the same rank, prepend the shape of the lower rank array with 1s until both shapes have the same length.\n",
    "The two arrays are said to be compatible in a dimension if they have the same size in the dimension, or if one of the arrays has size 1 in that dimension.\n",
    "The arrays can be broadcast together if they are compatible in all dimensions.\n",
    "After broadcasting, each array behaves as if it had shape equal to the element-wise maximum of shapes of the two input arrays.\n",
    "In any dimension where one array had size 1 and the other array had a size greater than 1, the first array behaves as if it were copied along that dimension.\n"
   ]
  },
  {
   "cell_type": "code",
   "execution_count": 89,
   "metadata": {},
   "outputs": [
    {
     "data": {
      "text/plain": [
       "array([5, 6, 7])"
      ]
     },
     "execution_count": 89,
     "metadata": {},
     "output_type": "execute_result"
    }
   ],
   "source": [
    "np.arange(3)+5"
   ]
  },
  {
   "cell_type": "code",
   "execution_count": 92,
   "metadata": {},
   "outputs": [
    {
     "data": {
      "text/plain": [
       "array([[1., 2., 3.],\n",
       "       [1., 2., 3.],\n",
       "       [1., 2., 3.]])"
      ]
     },
     "execution_count": 92,
     "metadata": {},
     "output_type": "execute_result"
    }
   ],
   "source": [
    "np.ones((3,3))+np.arange(3)"
   ]
  },
  {
   "cell_type": "code",
   "execution_count": 94,
   "metadata": {},
   "outputs": [
    {
     "data": {
      "text/plain": [
       "array([[0, 1, 2],\n",
       "       [1, 2, 3],\n",
       "       [2, 3, 4]])"
      ]
     },
     "execution_count": 94,
     "metadata": {},
     "output_type": "execute_result"
    }
   ],
   "source": [
    "np.arange(3).reshape((3,1))+np.arange(3)"
   ]
  },
  {
   "cell_type": "markdown",
   "metadata": {},
   "source": [
    "# Normalize a 5x5 matrix\n",
    "In this task, you will normalize i.e. subtract the minimum value and divide by the range\n",
    "\n",
    "Create a random 5x5 matrix with the help of np.random.random((5,5)) and save it as z\n",
    "Calculate the minimum and maximum value with the help of .min() and .max() methods respectively for the 5x5 array. Save them as zmax and zmin for maximum and minimum respectively\n",
    "Now using the power of broadcasting subtract the minimum value from each element and divide by their range (maximum-minimum) to normalize. Save this normalized as z_norm\n",
    "Print the standardized array\n",
    "Test Cases: The calculated value of zmax should be 0.97.\n",
    "The calculated value of zmin should be 0.02.\n",
    "The calculated value of z_norm should be 0.03."
   ]
  },
  {
   "cell_type": "code",
   "execution_count": 97,
   "metadata": {},
   "outputs": [
    {
     "name": "stdout",
     "output_type": "stream",
     "text": [
      "[[0.04872488 0.28910966 0.72096635 0.02161625 0.20592277]\n",
      " [0.05077326 0.30227189 0.66391029 0.30811439 0.58359128]\n",
      " [0.06957095 0.86740448 0.13324052 0.17812466 0.49592955]\n",
      " [0.86369964 0.75894384 0.97048513 0.75930255 0.38425003]\n",
      " [0.40871833 0.71336043 0.27066977 0.85410287 0.91316397]]\n",
      "0.97\n",
      "0.02\n",
      "[[0.02856942 0.28190767 0.73703555 0.         0.19423813]\n",
      " [0.03072817 0.29577917 0.67690496 0.3019365  0.59225784]\n",
      " [0.05053881 0.89136471 0.1176393  0.16494209 0.49987233]\n",
      " [0.88746023 0.77705951 1.         0.77743756 0.38217481]\n",
      " [0.40796162 0.72901978 0.26247412 0.87734633 0.93959001]]\n"
     ]
    }
   ],
   "source": [
    "import numpy as np\n",
    "np.random.seed(21)\n",
    "\n",
    "# Code starts here\n",
    "\n",
    "# create random 5x5 array\n",
    "z=np.random.random((5,5))\n",
    "print(z)\n",
    "\n",
    "# minimum and maximum values\n",
    "zmax=np.max(z)\n",
    "print('%.2f'%zmax)\n",
    "zmin=np.min(z)\n",
    "print('%.2f'%zmin)\n",
    "\n",
    "# normalize\n",
    "z_norm=(z-zmin)/(zmax-zmin)\n",
    "\n",
    "# display\n",
    "print(z_norm)"
   ]
  },
  {
   "cell_type": "markdown",
   "metadata": {},
   "source": [
    "# Speed of NumPy vs Python lists\n",
    "Code snippet Speed comparison while performing element-wise addition of two Python lists and element-wise addition of two NumPy."
   ]
  },
  {
   "cell_type": "code",
   "execution_count": 98,
   "metadata": {},
   "outputs": [
    {
     "name": "stdout",
     "output_type": "stream",
     "text": [
      "0.0030167102813720703\n",
      "0.0009794235229492188\n"
     ]
    }
   ],
   "source": [
    "np.random.seed(21)\n",
    "\n",
    "# import packages\n",
    "import time\n",
    "import numpy as np\n",
    "\n",
    "# initialize variable\n",
    "num = 10000\n",
    "\n",
    "# initialize lists\n",
    "l1, l2 = [i for i in range(num)], [i+2 for i in range(num)]\n",
    "\n",
    "# initialize arrays\n",
    "a1, a2 = np.array(l1), np.array(l2)\n",
    "\n",
    "# start time\n",
    "start_list = time.time()\n",
    "\n",
    "# element-wise addition for both lists\n",
    "sum_lists = [i+j for i, j in zip(l1, l2)]\n",
    "\n",
    "# stop time\n",
    "stop_list = time.time()\n",
    "\n",
    "# display time\n",
    "print(stop_list - start_list)\n",
    "\n",
    "\n",
    "# start time\n",
    "start_array = time.time()\n",
    "\n",
    "# element-wise addition for both arrays\n",
    "sum_arrays = a1 + a2\n",
    "\n",
    "# stop time\n",
    "stop_array = time.time()\n",
    "\n",
    "# display time\n",
    "print(stop_array - start_array)"
   ]
  },
  {
   "cell_type": "markdown",
   "metadata": {},
   "source": [
    "# Quadratic Equation\n",
    "Find roots of quadratic equation\n",
    "The quadratic equation that you will be solving is x^2 -4x + 4 = 0x \n",
    "2\n",
    " −4x+4=0\n",
    "Make an array coeff to store the coefficients (1,-4, 4) of the quadratic equation\n",
    "Pass this array coeff as argument to np.roots() method which will return the roots for the quadratic equation x^2 -4x + 4 = 0x \n",
    "2\n",
    " −4x+4=0. Save it as roots\n",
    "Print out roots to see your result\n",
    "Test Cases: roots[0] should be 2.0 roots[1] should be 2.0.\n",
    "coeff[0] should be 1, coeff[1] should be -4 and coeff[2] should be 4."
   ]
  },
  {
   "cell_type": "code",
   "execution_count": 99,
   "metadata": {},
   "outputs": [
    {
     "name": "stdout",
     "output_type": "stream",
     "text": [
      "[2. 2.]\n"
     ]
    }
   ],
   "source": [
    "# import packages\n",
    "import numpy as np\n",
    "\n",
    "# Code starts here\n",
    "\n",
    "# co-efficients of x\n",
    "coeff=np.array([1,-4,4])\n",
    "\n",
    "# roots of equation\n",
    "roots=np.roots(coeff)\n",
    "\n",
    "\n",
    "# display roots\n",
    "print(roots)\n",
    "\n",
    "\n",
    "# Code ends here"
   ]
  },
  {
   "cell_type": "code",
   "execution_count": 100,
   "metadata": {},
   "outputs": [
    {
     "name": "stdout",
     "output_type": "stream",
     "text": [
      "[ 32.     50.     77.     89.6   176.    211.982]\n"
     ]
    }
   ],
   "source": [
    "# Code starts here\n",
    "import numpy as np\n",
    "# centigrade temperatures\n",
    "centigrade_temps = np.array([0, 10, 25, 32, 80, 99.99])\n",
    "\n",
    "# function for conversion\n",
    "convert = lambda fahrenheit_temps : (centigrade_temps*9+32*5)/5\n",
    "\n",
    "# def convert(celcius):\n",
    "#     fahrenheit_temps=(celcius*9+32*5)/5\n",
    "#     return fahrenheit_temps\n",
    "\n",
    "fahrenheit_temps=(convert(centigrade_temps))\n",
    "\n",
    "# display fahrehheit temperatures\n",
    "print(fahrenheit_temps)\n",
    "\n",
    "# Code ends here"
   ]
  },
  {
   "cell_type": "markdown",
   "metadata": {},
   "source": [
    "# Solve for X"
   ]
  },
  {
   "cell_type": "code",
   "execution_count": 101,
   "metadata": {},
   "outputs": [
    {
     "name": "stdout",
     "output_type": "stream",
     "text": [
      "[[ 2  1  2]\n",
      " [ 3  0  1]\n",
      " [ 1  1 -1]]\n",
      "[[-3]\n",
      " [ 5]\n",
      " [ 2]]\n",
      "[[ 2.5]\n",
      " [-3. ]\n",
      " [-2.5]]\n",
      "True\n"
     ]
    }
   ],
   "source": [
    "# Code starts here\n",
    "import numpy as np\n",
    "# initialize matrix A and b\n",
    "A=np.array([[2,1,2],[3,0,1],[1,1,-1]])\n",
    "b=np.array([[-3],[5],[2]])\n",
    "print(A)\n",
    "print(b)\n",
    "\n",
    "# Solve for x\n",
    "x=np.linalg.solve(A,b)\n",
    "print(x)\n",
    "\n",
    "# Check solution\n",
    "check=np.allclose(np.dot(A,x),b)\n",
    "print(check)\n",
    "\n",
    "# Code ends here"
   ]
  },
  {
   "cell_type": "code",
   "execution_count": 102,
   "metadata": {},
   "outputs": [
    {
     "data": {
      "text/plain": [
       "array([[1., 0., 0.],\n",
       "       [0., 1., 0.],\n",
       "       [0., 0., 1.]])"
      ]
     },
     "execution_count": 102,
     "metadata": {},
     "output_type": "execute_result"
    }
   ],
   "source": [
    "np.identity(3)"
   ]
  },
  {
   "cell_type": "markdown",
   "metadata": {},
   "source": [
    "# Find a non singular matrix\n",
    "Assume that A is a non-singular matrix\n",
    "Resolve the equation 3A = A^2 + AB3A=A \n",
    "2\n",
    " +AB until it reduces to a simpler form for you to carry out simple array addition. Array A should be coming as A = 3I - BA=3I−B where I is the Identity matrix\n",
    "Initialize array B using np.array() and I using np.identity()\n",
    "Save resultant array as A which is given mathematically by A = 3I - BA=3I−B\n",
    "Display matrix A\n",
    "Test Cases: The calculated value of A should be [[1, 0, 1], [0, 1, 1], [1, 0, 2]]."
   ]
  },
  {
   "cell_type": "code",
   "execution_count": 103,
   "metadata": {},
   "outputs": [
    {
     "name": "stdout",
     "output_type": "stream",
     "text": [
      "[[ 2  0 -1]\n",
      " [ 0  2 -1]\n",
      " [-1  0  1]]\n",
      "[[1. 0. 0.]\n",
      " [0. 1. 0.]\n",
      " [0. 0. 1.]]\n",
      "[[1. 0. 1.]\n",
      " [0. 1. 1.]\n",
      " [1. 0. 2.]]\n"
     ]
    }
   ],
   "source": [
    "import numpy as np\n",
    "# initialize array B and Identity matrix\n",
    "B=np.array([[2,0,-1],[0,2,-1],[-1,0,1]])\n",
    "I=np.identity(3)\n",
    "print(B)\n",
    "print(I)\n",
    "\n",
    "# calculate result\n",
    "\n",
    "A=3*I-B\n",
    "\n",
    "print(A)\n",
    "\n",
    "\n",
    "# Code ends here"
   ]
  },
  {
   "cell_type": "code",
   "execution_count": null,
   "metadata": {},
   "outputs": [],
   "source": []
  }
 ],
 "metadata": {
  "kernelspec": {
   "display_name": "Python 3",
   "language": "python",
   "name": "python3"
  },
  "language_info": {
   "codemirror_mode": {
    "name": "ipython",
    "version": 3
   },
   "file_extension": ".py",
   "mimetype": "text/x-python",
   "name": "python",
   "nbconvert_exporter": "python",
   "pygments_lexer": "ipython3",
   "version": "3.7.6"
  }
 },
 "nbformat": 4,
 "nbformat_minor": 4
}
